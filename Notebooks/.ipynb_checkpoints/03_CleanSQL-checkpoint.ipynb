{
 "cells": [
  {
   "cell_type": "markdown",
   "id": "4cb0934b-83a3-40af-8db1-8208a4be2358",
   "metadata": {},
   "source": [
    "### Use this document to clean data for further use. Store cleaned dataset(s) in SQL to pull in other working files.\n",
    "\n",
    "#### If too difficult with SQL, do with MongoDB and PyMongo"
   ]
  },
  {
   "cell_type": "code",
   "execution_count": null,
   "id": "0961b398-b3e3-41e5-8583-118ebefe0afc",
   "metadata": {},
   "outputs": [],
   "source": [
    "#import dependencies\n",
    "import numpy as np\n",
    "import pandas as pd\n",
    "from pprint import pprint\n",
    "import matplotlib.pyplot as plt\n",
    "%matplotlib inline\n"
   ]
  },
  {
   "cell_type": "code",
   "execution_count": null,
   "id": "f607cb69-dff5-48d7-9ed1-76c4f911efcb",
   "metadata": {},
   "outputs": [],
   "source": [
    "# set up SQL connection in python\n",
    "# can do pyspark (module 22) OR psycopg2 (module 10)"
   ]
  },
  {
   "cell_type": "code",
   "execution_count": null,
   "id": "03f463f4-263b-4c28-a8f9-0e043581cc67",
   "metadata": {},
   "outputs": [],
   "source": [
    "# # Python SQL toolkit and Object Relational Mapper\n",
    "# import sqlalchemy\n",
    "# from sqlalchemy.orm import Session\n",
    "# from sqlalchemy import create_engine, func\n",
    "# from sqlalchemy import Column, Integer, String, Float\n",
    "# from sqlalchemy.ext.declarative import declarative_base #pick this or automap base?\n",
    "# from sqlalchemy.ext.automap import automap_base #pick this or declaritive base? --> need to create class objects etc. easy enter instances of this\n",
    "# # this class object into table as needed... will likely not need to do this for this project [SEE DECLARATIVE BASE EXAMPLE BELOW]\n",
    "# Base = declarative_base() #because foundation SQL class object?? [SEE AUTOMAP BASE EXAMPLE]"
   ]
  },
  {
   "cell_type": "code",
   "execution_count": null,
   "id": "0bd060ea-9108-4be6-b391-7f930a9d5616",
   "metadata": {},
   "outputs": [],
   "source": [
    "# # Create Database Connection\n",
    "# # database_path = \"pets_db\" CHANGE NAME to connect to the database I want to use\n",
    "# engine = create_engine(f\"sqlite:///{database_path}\")\n",
    "# conn = engine.connect()"
   ]
  },
  {
   "cell_type": "code",
   "execution_count": null,
   "id": "7c22c0ff-9abe-4392-9de2-80328953eaea",
   "metadata": {},
   "outputs": [],
   "source": [
    "# # [DECLARATIVE BASE EXAMPLE] if creating classes and object instances, see example below:\n",
    "# # Create a Cat Class for the table. OUR BLUEPRINTS\n",
    "# class Cat(Base):\n",
    "#     __tablename__ = 'cat'\n",
    "#     id = Column(Integer, primary_key=True)\n",
    "#     name = Column(String(255))\n",
    "#     color = Column(String(255))\n",
    "#     age = Column(Integer)\n",
    "\n",
    "# # Create a Dog Class for the table. \n",
    "# class Dog(Base):\n",
    "#     __tablename__ = 'dog'\n",
    "#     id = Column(Integer, primary_key=True)\n",
    "#     name = Column(String(255))\n",
    "#     color = Column(String(255))\n",
    "#     age = Column(Integer)\n",
    "\n",
    "# # Create a Specific Instance of the Dog and Cat classes\n",
    "# dog = Dog(name=\"Fido\", color='Brown', age=4) #create instance of Dog class\n",
    "# cat = Cat(name=\"Whiskers\", color=\"Gray\", age=7)\n",
    "\n",
    "# # Create a \"Metadata\" Layer That Abstracts our SQL Database \n",
    "# #data about data which will be dinfiition of columns in the ___?\n",
    "# #tables created via create_all below\n",
    "# Base.metadata.create_all(engine)\n",
    "\n",
    "\n",
    "# # Create a Session Object to Connect to DB - session is talking to engine declared up there\n",
    "# from sqlalchemy.orm import Session\n",
    "# session = Session(bind=engine)\n",
    "\n",
    "# # Add Records to the Appropriate DB\n",
    "# session.add(dog) #create in CRUD; adding info for Fido etc, but gave a variable name bc working in python\n",
    "# session.add(cat)\n",
    "# session.commit()\n",
    "\n",
    "# # Query the Dog table; if run multiple times, get multiple outputs unless clear this out\n",
    "# dog_list = session.query(Dog) #querying dog table that got from class Dog\n",
    "# for doggy in dog_list:\n",
    "#     print(doggy.name)\n",
    "#     #get Fido bc first info in name column\n",
    "#     #can do doggy.color for fur color\n",
    "## ALTERNATIVE EXAMPLE: MODULE 10 \"surfer_SQL_solution\" OR \"ice_cream_connector_solution\""
   ]
  },
  {
   "cell_type": "code",
   "execution_count": null,
   "id": "4a035e36-4115-4da0-a5a8-38b97dd68bab",
   "metadata": {},
   "outputs": [],
   "source": [
    "# # [AUTOMAP BASE] note: used sqlite file to start off with... how do without pre-made sqlite file? or first add uncleaned to postgreSQL then clean then\n",
    "# # reload cleaned into new table in database?\n",
    "# # create engine to hawaii.sqlite\n",
    "# engine = create_engine(\"sqlite:///Resources/hawaii.sqlite\")"
   ]
  },
  {
   "cell_type": "code",
   "execution_count": null,
   "id": "99fad559-06a8-44e9-a75b-bb51cd29dd59",
   "metadata": {},
   "outputs": [],
   "source": []
  }
 ],
 "metadata": {
  "kernelspec": {
   "display_name": "Python 3 (ipykernel)",
   "language": "python",
   "name": "python3"
  },
  "language_info": {
   "codemirror_mode": {
    "name": "ipython",
    "version": 3
   },
   "file_extension": ".py",
   "mimetype": "text/x-python",
   "name": "python",
   "nbconvert_exporter": "python",
   "pygments_lexer": "ipython3",
   "version": "3.10.14"
  }
 },
 "nbformat": 4,
 "nbformat_minor": 5
}
